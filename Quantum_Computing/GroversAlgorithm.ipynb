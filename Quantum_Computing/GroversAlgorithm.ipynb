{
 "cells": [
  {
   "cell_type": "code",
   "execution_count": 2,
   "metadata": {},
   "outputs": [
    {
     "data": {
      "text/plain": [
       "<AccountProvider for IBMQ(hub='ibm-q', group='open', project='main')>"
      ]
     },
     "execution_count": 2,
     "metadata": {},
     "output_type": "execute_result"
    }
   ],
   "source": [
    "%matplotlib inline\n",
    "import qiskit\n",
    "import time\n",
    "from qiskit import IBMQ\n",
    "from qiskit import Aer\n",
    "\n",
    "# Authenticate an account and add for use during this session. Replace string\n",
    "# argument with your private token.\n",
    "IBMQ.enable_account(\"a7205ba52f91ed249498579f44e4c9d45cd4cf741319e6ef56ec39c32f238d2f9c2dc65ccf096adf88fafa6114c7bed128b9eb84321e3e157e776091661ee527\")\n"
   ]
  },
  {
   "cell_type": "markdown",
   "metadata": {},
   "source": [
    "# Quantum OR, AND necessary for 3SAT implementation"
   ]
  },
  {
   "cell_type": "code",
   "execution_count": 4,
   "metadata": {},
   "outputs": [],
   "source": [
    "import matplotlib\n",
    "from qiskit import QuantumCircuit, ClassicalRegister, QuantumRegister\n",
    "from  qiskit.tools.visualization  import circuit_drawer\n",
    "from qiskit.extensions.standard import ccx\n",
    "\n",
    "def setup_input(qr,qc,a,b,c,d=None):\n",
    "    if a:\n",
    "        qc.x(qr[0])\n",
    "    if b:\n",
    "        qc.x(qr[1])\n",
    "    if c:\n",
    "        qc.x(qr[2])\n",
    "    if d:\n",
    "        qc.x(qr[4])\n",
    "\n",
    "def quantumand_3(qr,qc,w,x,y,t1,t2):\n",
    "    qc.ccx(qr[w],qr[x],qr[t1])\n",
    "    qc.ccx(qr[y],qr[t1],qr[t2])\n",
    "    return t2\n",
    "\n",
    "\n",
    "def quantumand_2(qr,qc,w,x,t1):\n",
    "    qc.ccx(qr[w],qr[x],qr[t1])\n",
    "    return t1\n",
    "\n",
    "def quantumor_2(qr,qc,w,x,t1):\n",
    "    qc.x(qr[w])\n",
    "    qc.x(qr[x])\n",
    "    qc.x(qr[t1])\n",
    "    qc.ccx(qr[w],qr[x],qr[t1])\n",
    "    qc.x(qr[w])\n",
    "    qc.x(qr[x])\n",
    "    return t1\n",
    "\n",
    "def quantumor_2_reverse(qr,qc,w,x,t1):\n",
    "    qc.x(qr[x])\n",
    "    qc.x(qr[w])\n",
    "    qc.ccx(qr[w],qr[x],qr[t1])\n",
    "    qc.x(qr[t1])\n",
    "    qc.x(qr[x])\n",
    "    qc.x(qr[w])\n",
    "    return t1\n",
    "\n",
    "def quantumor_3(qr,qc,w,x,y,t1,t2):\n",
    "    qc.x(qr[w])\n",
    "    qc.x(qr[x])\n",
    "    qc.x(qr[t1])\n",
    "    qc.ccx(qr[w],qr[x],qr[t1])\n",
    "    qc.x(qr[w])\n",
    "    qc.x(qr[x])\n",
    "\n",
    "    qc.x(qr[y])\n",
    "    qc.x(qr[t1])\n",
    "    qc.x(qr[t2])\n",
    "    qc.ccx(qr[y],qr[t1],qr[t2])\n",
    "    qc.x(qr[y])\n",
    "    qc.x(qr[t1])\n",
    "    return t2\n",
    "\n",
    "def quantumor_3_reverse(qr,qc,w,x,y,t1,t2):\n",
    "    qc.x(qr[t1])\n",
    "    qc.x(qr[y])\n",
    "    qc.ccx(qr[y],qr[t1],qr[t2])\n",
    "    qc.x(qr[t2])\n",
    "    qc.x(qr[t1])\n",
    "    qc.x(qr[y])\n",
    "    \n",
    "    qc.x(qr[x])\n",
    "    qc.x(qr[w])\n",
    "    qc.ccx(qr[w],qr[x],qr[t1])\n",
    "    qc.x(qr[t1])\n",
    "    qc.x(qr[x])\n",
    "    qc.x(qr[w])\n",
    "    return t2"
   ]
  },
  {
   "cell_type": "markdown",
   "metadata": {},
   "source": [
    "## Testing quantum logic functions"
   ]
  },
  {
   "cell_type": "code",
   "execution_count": 5,
   "metadata": {},
   "outputs": [
    {
     "name": "stdout",
     "output_type": "stream",
     "text": [
      "Testing two qubit quantum AND\n",
      "inputs forward reverse\n",
      "abc a'b'c' a''b''c''\n",
      "000 000 000\n",
      "001 001 001\n",
      "010 010 010\n",
      "011 011 011\n",
      "100 100 100\n",
      "101 101 101\n",
      "110 111 110\n",
      "111 110 111\n",
      "\n",
      "Testing two qubit quantum OR\n",
      "inputs forward reverse\n",
      "abc a'b'c' a''b''c''\n",
      "000 000 000\n",
      "001 001 001\n",
      "010 011 010\n",
      "011 010 011\n",
      "100 101 100\n",
      "101 100 101\n",
      "110 111 110\n",
      "111 110 111\n",
      "\n",
      "Testing three qubit quantum AND\n",
      "inputs forward reverse\n",
      "abcd a'b'c'd' a''b''c''d''\n",
      "0000 0000 0000\n",
      "0001 0001 0001\n",
      "0010 0010 0010\n",
      "0011 0011 0011\n",
      "0100 0100 0100\n",
      "0101 0101 0101\n",
      "0110 0110 0110\n",
      "0111 0111 0111\n",
      "1000 1000 1000\n",
      "1001 1001 1001\n",
      "1010 1010 1010\n",
      "1011 1011 1011\n",
      "1100 1100 1100\n",
      "1101 1101 1101\n",
      "1110 1111 1111\n",
      "1111 1110 1110\n",
      "\n",
      "Testing three qubit quantum OR\n",
      "inputs forward reverse\n",
      "abcd a'b'c'd' a''b''c''d''\n",
      "0000 0000 0000\n",
      "0001 0001 0001\n",
      "0010 0011 0010\n",
      "0011 0010 0011\n",
      "0100 0101 0100\n",
      "0101 0100 0101\n",
      "0110 0111 0110\n",
      "0111 0110 0111\n",
      "1000 1001 1000\n",
      "1001 1000 1001\n",
      "1010 1011 1010\n",
      "1011 1010 1011\n",
      "1100 1101 1100\n",
      "1101 1100 1101\n",
      "1110 1111 1110\n",
      "1111 1110 1111\n"
     ]
    }
   ],
   "source": [
    "import itertools\n",
    "def run_local_sim_one_result(qc):\n",
    "    backend = Aer.get_backend('qasm_simulator')\n",
    "    job_exp = qiskit.execute(qc,backend=backend)\n",
    "    result = job_exp.result()\n",
    "    final=result.get_counts(qc)\n",
    "    result_in_order=list(final.keys())[0][::-1]\n",
    "    return result_in_order\n",
    "\n",
    "def test_logic_function_2(f,frev):\n",
    "    print(\"inputs\",\"forward\",\"reverse\")\n",
    "    print(\"abc\",\"a'b'c'\",\"a''b''c''\")\n",
    "    for combo in itertools.product([0,1],repeat=3):\n",
    "        # forward\n",
    "        qr = QuantumRegister(3)\n",
    "        cr = ClassicalRegister(3)\n",
    "        qc = QuantumCircuit(qr,cr)\n",
    "        setup_input(qr,qc,combo[0],combo[1],combo[2])\n",
    "        f(qr,qc,0,1,2)\n",
    "        for i in range(3):\n",
    "            qc.measure(qr[i],cr[i])\n",
    "        forward_result=run_local_sim_one_result(qc)\n",
    "        # forward then reverse\n",
    "        qr = QuantumRegister(3)\n",
    "        cr = ClassicalRegister(3)\n",
    "        qc = QuantumCircuit(qr,cr)\n",
    "        setup_input(qr,qc,combo[0],combo[1],combo[2])\n",
    "        f(qr,qc,0,1,2)\n",
    "        frev(qr,qc,0,1,2)\n",
    "        for i in range(3):\n",
    "            qc.measure(qr[i],cr[i])\n",
    "        reverse_result=run_local_sim_one_result(qc)\n",
    "        print('%d%d%d %s %s'%(combo[0],combo[1],combo[2],forward_result,reverse_result))\n",
    "\n",
    "        \n",
    "\n",
    "def test_logic_function_3(f,frev):\n",
    "    print(\"inputs\",\"forward\",\"reverse\")\n",
    "    print(\"abcd\",\"a'b'c'd'\",\"a''b''c''d''\")\n",
    "    for combo in itertools.product([0,1],repeat=4):\n",
    "        # forward\n",
    "        qr = QuantumRegister(5)\n",
    "        cr = ClassicalRegister(5)\n",
    "        qc = QuantumCircuit(qr,cr)\n",
    "        setup_input(qr,qc,combo[0],combo[1],combo[2],combo[3])\n",
    "        f(qr,qc,0,1,2,3,4)\n",
    "        for i in range(5):\n",
    "            qc.measure(qr[i],cr[i])\n",
    "        forward_result=run_local_sim_one_result(qc)\n",
    "        # forward then reverse\n",
    "        qr = QuantumRegister(5)\n",
    "        cr = ClassicalRegister(5)\n",
    "        qc = QuantumCircuit(qr,cr)\n",
    "        setup_input(qr,qc,combo[0],combo[1],combo[2],combo[3])\n",
    "        f(qr,qc,0,1,2,3,4)\n",
    "        frev(qr,qc,0,1,2,3,4)\n",
    "        for i in range(5):\n",
    "            qc.measure(qr[i],cr[i])\n",
    "        reverse_result=run_local_sim_one_result(qc)\n",
    "        \n",
    "        forward_result=forward_result[0:3]+forward_result[4]\n",
    "        reverse_result=reverse_result[0:3]+reverse_result[4]\n",
    "\n",
    "        print('%d%d%d%d %s %s'%(combo[0],combo[1],combo[2],combo[3],forward_result,reverse_result))\n",
    "\n",
    "print(\"Testing two qubit quantum AND\")\n",
    "test_logic_function_2(quantumand_2,quantumand_2)\n",
    "print()\n",
    "\n",
    "print(\"Testing two qubit quantum OR\")\n",
    "test_logic_function_2(quantumor_2,quantumor_2_reverse)\n",
    "print()\n",
    "\n",
    "print(\"Testing three qubit quantum AND\")\n",
    "test_logic_function_3(quantumand_3,quantumand_3)\n",
    "print()\n",
    "\n",
    "print(\"Testing three qubit quantum OR\")\n",
    "test_logic_function_3(quantumor_3,quantumor_3_reverse)\n",
    "\n",
    "\n",
    "    "
   ]
  },
  {
   "cell_type": "markdown",
   "metadata": {},
   "source": [
    "# Test classical logic of function\n",
    "$$(a \\lor b \\lor \\neg c) \\land (a \\lor b \\lor c) \\land (a \\lor \\neg b \\lor c) \\land (a \\lor \\neg b \\lor \\neg c) \\land (\\neg a \\lor b \\lor \\neg c) \\land (\\neg a \\lor b \\lor c) \\land (\\neg a \\lor \\neg b \\lor \\neg c) $$"
   ]
  },
  {
   "cell_type": "code",
   "execution_count": 6,
   "metadata": {},
   "outputs": [
    {
     "name": "stdout",
     "output_type": "stream",
     "text": [
      "(0, 0, 0) -> 0\n",
      "(0, 0, 1) -> 0\n",
      "(0, 1, 0) -> 0\n",
      "(0, 1, 1) -> 0\n",
      "(1, 0, 0) -> 0\n",
      "(1, 0, 1) -> 0\n",
      "(1, 1, 0) -> 1\n",
      "(1, 1, 1) -> 0\n"
     ]
    }
   ],
   "source": [
    "def _3sat_mystery3_classical(a,b,c):\n",
    "    return int((a or b or not c) and (a or b or c) and (a or not b or c) and (a or not b or not c) and (not a or b or not c)  and (not a or b or c) and (not a or not b or not c) )\n",
    "for combo in itertools.product([0,1],repeat=3):\n",
    "    print(combo,'->',_3sat_mystery3_classical(combo[0],combo[1], combo[2]))"
   ]
  },
  {
   "cell_type": "markdown",
   "metadata": {},
   "source": [
    "# 3SAT implementation for our choice of 3SAT problem"
   ]
  },
  {
   "cell_type": "code",
   "execution_count": 7,
   "metadata": {},
   "outputs": [],
   "source": [
    "def setup_or_teardown_logic(qr,qc,is_a,is_b,is_c): \n",
    "    \"\"\"    \n",
    "    is_a,is_b,and is_c: False indicates the variable should be negated, True left as is.\n",
    "    Negation is done with the X gate.\n",
    "\n",
    "    \"\"\"    \n",
    "    if not is_a:\n",
    "        qc.x(qr[0])\n",
    "    if not is_b:\n",
    "        qc.x(qr[1])\n",
    "    if not is_c:\n",
    "        qc.x(qr[2])"
   ]
  },
  {
   "cell_type": "code",
   "execution_count": 8,
   "metadata": {},
   "outputs": [],
   "source": [
    "def _3sat_mystery_3(qr,qc,reverse=True,full_reverse=False):\n",
    "    # w,x,y in registers 0,1,2. \n",
    "    # Everything else can be temp/results\n",
    "    # General pattern\n",
    "    # 1. setup logic (which of a,b,c are negated)\n",
    "    # 2. execute computation\n",
    "    # 3. reverse logic so that we are back to a,b,c without negations\n",
    "    # If this circuit is doing its job, should only be satisfied by 110\n",
    "\n",
    "    # (a or b or not c)\n",
    "    setup_or_teardown_logic(qr,qc,True,True,False)\n",
    "    first_clause=quantumor_3(qr,qc,0,1,2,3,4)\n",
    "    setup_or_teardown_logic(qr,qc,True,True,False)\n",
    "\n",
    "    # (a or b or c) \n",
    "    setup_or_teardown_logic(qr,qc,True,True,True)\n",
    "    second_clause=quantumor_3(qr,qc,0,1,2,5,6)\n",
    "    setup_or_teardown_logic(qr,qc,True,True,True)\n",
    "\n",
    "    # (a or not b or c)\n",
    "    setup_or_teardown_logic(qr,qc,True,False,True)\n",
    "    third_clause=quantumor_3(qr,qc,0,1,2,7,8)\n",
    "    setup_or_teardown_logic(qr,qc,True,False,True)\n",
    "\n",
    "    # (a or not b or not c)\n",
    "    setup_or_teardown_logic(qr,qc,True,False,False)\n",
    "    fourth_clause=quantumor_3(qr,qc,0,1,2,9,10)\n",
    "    setup_or_teardown_logic(qr,qc,True,False,False)\n",
    "\n",
    "    # (not a or b or not c) \n",
    "    setup_or_teardown_logic(qr,qc,False,True,False)\n",
    "    fifth_clause=quantumor_3(qr,qc,0,1,2,11,12)\n",
    "    setup_or_teardown_logic(qr,qc,False,True,False)\n",
    "\n",
    "    # (not a or b or c)\n",
    "    setup_or_teardown_logic(qr,qc,False,True,True)\n",
    "    sixth_clause=quantumor_3(qr,qc,0,1,2,13,14)\n",
    "    setup_or_teardown_logic(qr,qc,False,True,True)\n",
    "\n",
    "    # (not a or not b or not c) \n",
    "    setup_or_teardown_logic(qr,qc,False,False,False)\n",
    "    seventh_clause=quantumor_3(qr,qc,0,1,2,15,16)\n",
    "    setup_or_teardown_logic(qr,qc,False,False,False)\n",
    "\n",
    "\n",
    "    # Let's whittle down\n",
    "    intermediate_and_pair1=quantumand_2(qr,qc,first_clause,second_clause,17)\n",
    "    intermediate_and_pair2=quantumand_2(qr,qc,third_clause,fourth_clause,18)\n",
    "    intermediate_and_pair3=quantumand_2(qr,qc,fifth_clause,sixth_clause,19)\n",
    "\n",
    "    # Now whittling down further\n",
    "    intermediate_and_pair_12=quantumand_2(qr,qc,intermediate_and_pair1,intermediate_and_pair2,20)\n",
    "    intermediate_and_pair_34=quantumand_2(qr,qc,intermediate_and_pair3,seventh_clause,21)\n",
    "\n",
    "    # Now whittling down to 1 result\n",
    "    final_result_and_pair_1234=quantumand_2(qr,qc,intermediate_and_pair_12,intermediate_and_pair_34,22)\n",
    "    \n",
    "    if reverse:\n",
    "        if full_reverse:\n",
    "            final_result_and_pair_1234=quantumand_2(qr,qc,intermediate_and_pair_12,intermediate_and_pair_34,22)\n",
    "        intermediate_and_pair_34=quantumand_2(qr,qc,intermediate_and_pair3,seventh_clause,21)\n",
    "        intermediate_and_pair_12=quantumand_2(qr,qc,intermediate_and_pair1,intermediate_and_pair2,20)\n",
    "        intermediate_and_pair3=quantumand_2(qr,qc,fifth_clause,sixth_clause,19)\n",
    "        intermediate_and_pair2=quantumand_2(qr,qc,third_clause,fourth_clause,18)\n",
    "        intermediate_and_pair1=quantumand_2(qr,qc,first_clause,second_clause,17)\n",
    "        # (not a or not b or not c) \n",
    "        setup_or_teardown_logic(qr,qc,False,False,False)\n",
    "        seventh_clause=quantumor_3_reverse(qr,qc,0,1,2,15,16) \n",
    "        setup_or_teardown_logic(qr,qc,False,False,False)\n",
    "        # (not a or b or c)\n",
    "        setup_or_teardown_logic(qr,qc,False,True,True)\n",
    "        sixth_clause=quantumor_3_reverse(qr,qc,0,1,2,13,14)\n",
    "        setup_or_teardown_logic(qr,qc,False,True,True)\n",
    "        # (not a or b or not c) \n",
    "        setup_or_teardown_logic(qr,qc,False,True,False)\n",
    "        fifth_clause=quantumor_3_reverse(qr,qc,0,1,2,11,12)\n",
    "        setup_or_teardown_logic(qr,qc,False,True,False)\n",
    "        # (a or not b or not c)\n",
    "        setup_or_teardown_logic(qr,qc,True,False,False)\n",
    "        fourth_clause=quantumor_3_reverse(qr,qc,0,1,2,9,10)\n",
    "        setup_or_teardown_logic(qr,qc,True,False,False)\n",
    "        # (a or not b or c)\n",
    "        setup_or_teardown_logic(qr,qc,True,False,True)\n",
    "        third_clause=quantumor_3_reverse(qr,qc,0,1,2,7,8)\n",
    "        setup_or_teardown_logic(qr,qc,True,False,True)\n",
    "        # (a or b or c) \n",
    "        setup_or_teardown_logic(qr,qc,True,True,True)\n",
    "        second_clause=quantumor_3_reverse(qr,qc,0,1,2,5,6)\n",
    "        setup_or_teardown_logic(qr,qc,True,True,True)\n",
    "        # (a or b or not c)\n",
    "        setup_or_teardown_logic(qr,qc,True,True,False)\n",
    "        first_clause=quantumor_3_reverse(qr,qc,0,1,2,3,4)\n",
    "        setup_or_teardown_logic(qr,qc,True,True,False)"
   ]
  },
  {
   "cell_type": "markdown",
   "metadata": {},
   "source": [
    "# Testing all combinations of our quantum implementation on IBM QX"
   ]
  },
  {
   "cell_type": "code",
   "execution_count": 20,
   "metadata": {},
   "outputs": [],
   "source": [
    "import time\n",
    "from qiskit.tools.visualization import plot_histogram\n",
    "def try_input_combination(input_combination,shots=1,reverse=False,full_reverse=True):\n",
    "    provider = IBMQ.load_account()\n",
    "    backend = provider.get_backend('ibmq_qasm_simulator') # remote simulator\n",
    "    qr = QuantumRegister(23)\n",
    "    cr = ClassicalRegister(23)\n",
    "    qc = QuantumCircuit(qr,cr)\n",
    "    # setting up the input\n",
    "    for i in range(3):\n",
    "        if input_combination[i]:\n",
    "            qc.x(qr[i])\n",
    "    # calling the function on that input\n",
    "    _3sat_mystery_3(qr,qc,reverse=reverse,full_reverse=full_reverse)\n",
    "    # measuring every qubit as we will want to verify reversibility \n",
    "    for i in range(23):\n",
    "        qc.measure(qr[i],cr[i])\n",
    "\n",
    "    # Executing the job on IBM QX\n",
    "    job_exp = qiskit.execute(qc, backend=backend,shots=shots)\n",
    "    result = job_exp.result()\n",
    "    final=result.get_counts(qc)\n",
    "    if not len(final)==1:\n",
    "        print(input_combination,final)\n",
    "    else:\n",
    "        # note that due to IBM's choice the result returned is in opposite order with last register coming first \n",
    "        # and the first register coming last. For clarity we reverse the output so the first register is first\n",
    "        # and the last register is last.\n",
    "\n",
    "        result_in_order=list(final.keys())[0][::-1]\n",
    "        print(input_combination,'->',result_in_order[-1],'(measured bits: '+result_in_order+')')"
   ]
  },
  {
   "cell_type": "markdown",
   "metadata": {},
   "source": [
    "## Without reverse. \n",
    "Since this has no reverse, it should output 1 only for the input 1,1,0. Then the other bits should be set to a variety of elements which correspond to the temporary results from each clause."
   ]
  },
  {
   "cell_type": "code",
   "execution_count": 12,
   "metadata": {},
   "outputs": [
    {
     "name": "stderr",
     "output_type": "stream",
     "text": [
      "Credentials are already in use. The existing account in the session will be replaced.\n"
     ]
    },
    {
     "name": "stdout",
     "output_type": "stream",
     "text": [
      "(0, 0, 0) -> 0 (measured bits: 00001001111111111011010)\n"
     ]
    },
    {
     "name": "stderr",
     "output_type": "stream",
     "text": [
      "Credentials are already in use. The existing account in the session will be replaced.\n"
     ]
    },
    {
     "name": "stdout",
     "output_type": "stream",
     "text": [
      "(0, 0, 1) -> 0 (measured bits: 00100011111111111011010)\n"
     ]
    },
    {
     "name": "stderr",
     "output_type": "stream",
     "text": [
      "Credentials are already in use. The existing account in the session will be replaced.\n"
     ]
    },
    {
     "name": "stdout",
     "output_type": "stream",
     "text": [
      "(0, 1, 0) -> 0 (measured bits: 01011110001111111101010)\n"
     ]
    },
    {
     "name": "stderr",
     "output_type": "stream",
     "text": [
      "Credentials are already in use. The existing account in the session will be replaced.\n"
     ]
    },
    {
     "name": "stdout",
     "output_type": "stream",
     "text": [
      "(0, 1, 1) -> 0 (measured bits: 01111110100111111101010)\n"
     ]
    },
    {
     "name": "stderr",
     "output_type": "stream",
     "text": [
      "Credentials are already in use. The existing account in the session will be replaced.\n"
     ]
    },
    {
     "name": "stdout",
     "output_type": "stream",
     "text": [
      "(1, 0, 0) -> 0 (measured bits: 10011111111010011110100)\n"
     ]
    },
    {
     "name": "stderr",
     "output_type": "stream",
     "text": [
      "Credentials are already in use. The existing account in the session will be replaced.\n"
     ]
    },
    {
     "name": "stdout",
     "output_type": "stream",
     "text": [
      "(1, 0, 1) -> 0 (measured bits: 10111111111000111110100)\n"
     ]
    },
    {
     "name": "stderr",
     "output_type": "stream",
     "text": [
      "Credentials are already in use. The existing account in the session will be replaced.\n"
     ]
    },
    {
     "name": "stdout",
     "output_type": "stream",
     "text": [
      "(1, 1, 0) -> 1 (measured bits: 11011111111111101111111)\n"
     ]
    },
    {
     "name": "stderr",
     "output_type": "stream",
     "text": [
      "Credentials are already in use. The existing account in the session will be replaced.\n"
     ]
    },
    {
     "name": "stdout",
     "output_type": "stream",
     "text": [
      "(1, 1, 1) -> 0 (measured bits: 11111111111111100111100)\n"
     ]
    }
   ],
   "source": [
    "import itertools\n",
    "for combo in itertools.product([0,1],repeat=3):\n",
    "    try_input_combination(combo)\n"
   ]
  },
  {
   "cell_type": "markdown",
   "metadata": {},
   "source": [
    "## With reverse. \n",
    "Since this has reverse, it should output 0 for all inputs (that is the last bit should always be zero). Then, after the input, the other bits should all be set to zero as well."
   ]
  },
  {
   "cell_type": "code",
   "execution_count": 13,
   "metadata": {
    "scrolled": true
   },
   "outputs": [
    {
     "name": "stderr",
     "output_type": "stream",
     "text": [
      "Credentials are already in use. The existing account in the session will be replaced.\n"
     ]
    },
    {
     "name": "stdout",
     "output_type": "stream",
     "text": [
      "(0, 0, 0) -> 0 (measured bits: 00000000000000000000000)\n"
     ]
    },
    {
     "name": "stderr",
     "output_type": "stream",
     "text": [
      "Credentials are already in use. The existing account in the session will be replaced.\n"
     ]
    },
    {
     "name": "stdout",
     "output_type": "stream",
     "text": [
      "(0, 0, 1) -> 0 (measured bits: 00100000000000000000000)\n"
     ]
    },
    {
     "name": "stderr",
     "output_type": "stream",
     "text": [
      "Credentials are already in use. The existing account in the session will be replaced.\n"
     ]
    },
    {
     "name": "stdout",
     "output_type": "stream",
     "text": [
      "(0, 1, 0) -> 0 (measured bits: 01000000000000000000000)\n"
     ]
    },
    {
     "name": "stderr",
     "output_type": "stream",
     "text": [
      "Credentials are already in use. The existing account in the session will be replaced.\n"
     ]
    },
    {
     "name": "stdout",
     "output_type": "stream",
     "text": [
      "(0, 1, 1) -> 0 (measured bits: 01100000000000000000000)\n"
     ]
    },
    {
     "name": "stderr",
     "output_type": "stream",
     "text": [
      "Credentials are already in use. The existing account in the session will be replaced.\n"
     ]
    },
    {
     "name": "stdout",
     "output_type": "stream",
     "text": [
      "(1, 0, 0) -> 0 (measured bits: 10000000000000000000000)\n"
     ]
    },
    {
     "name": "stderr",
     "output_type": "stream",
     "text": [
      "Credentials are already in use. The existing account in the session will be replaced.\n"
     ]
    },
    {
     "name": "stdout",
     "output_type": "stream",
     "text": [
      "(1, 0, 1) -> 0 (measured bits: 10100000000000000000000)\n"
     ]
    },
    {
     "name": "stderr",
     "output_type": "stream",
     "text": [
      "Credentials are already in use. The existing account in the session will be replaced.\n"
     ]
    },
    {
     "name": "stdout",
     "output_type": "stream",
     "text": [
      "(1, 1, 0) -> 0 (measured bits: 11000000000000000000000)\n"
     ]
    },
    {
     "name": "stderr",
     "output_type": "stream",
     "text": [
      "Credentials are already in use. The existing account in the session will be replaced.\n"
     ]
    },
    {
     "name": "stdout",
     "output_type": "stream",
     "text": [
      "(1, 1, 1) -> 0 (measured bits: 11100000000000000000000)\n"
     ]
    }
   ],
   "source": [
    "import itertools\n",
    "for combo in itertools.product([0,1],repeat=3):\n",
    "    try_input_combination(combo,reverse=True,full_reverse=True)"
   ]
  },
  {
   "cell_type": "markdown",
   "metadata": {},
   "source": [
    "## With partial reverse\n",
    "Here we reverse all bits except the final bit, which will be set to 1 only for the input which satisfies teh function"
   ]
  },
  {
   "cell_type": "code",
   "execution_count": 14,
   "metadata": {},
   "outputs": [
    {
     "name": "stderr",
     "output_type": "stream",
     "text": [
      "Credentials are already in use. The existing account in the session will be replaced.\n"
     ]
    },
    {
     "name": "stdout",
     "output_type": "stream",
     "text": [
      "(0, 0, 0) -> 0 (measured bits: 00000000000000000000000)\n"
     ]
    },
    {
     "name": "stderr",
     "output_type": "stream",
     "text": [
      "Credentials are already in use. The existing account in the session will be replaced.\n"
     ]
    },
    {
     "name": "stdout",
     "output_type": "stream",
     "text": [
      "(0, 0, 1) -> 0 (measured bits: 00100000000000000000000)\n"
     ]
    },
    {
     "name": "stderr",
     "output_type": "stream",
     "text": [
      "Credentials are already in use. The existing account in the session will be replaced.\n"
     ]
    },
    {
     "name": "stdout",
     "output_type": "stream",
     "text": [
      "(0, 1, 0) -> 0 (measured bits: 01000000000000000000000)\n"
     ]
    },
    {
     "name": "stderr",
     "output_type": "stream",
     "text": [
      "Credentials are already in use. The existing account in the session will be replaced.\n"
     ]
    },
    {
     "name": "stdout",
     "output_type": "stream",
     "text": [
      "(0, 1, 1) -> 0 (measured bits: 01100000000000000000000)\n"
     ]
    },
    {
     "name": "stderr",
     "output_type": "stream",
     "text": [
      "Credentials are already in use. The existing account in the session will be replaced.\n"
     ]
    },
    {
     "name": "stdout",
     "output_type": "stream",
     "text": [
      "(1, 0, 0) -> 0 (measured bits: 10000000000000000000000)\n"
     ]
    },
    {
     "name": "stderr",
     "output_type": "stream",
     "text": [
      "Credentials are already in use. The existing account in the session will be replaced.\n"
     ]
    },
    {
     "name": "stdout",
     "output_type": "stream",
     "text": [
      "(1, 0, 1) -> 0 (measured bits: 10100000000000000000000)\n"
     ]
    },
    {
     "name": "stderr",
     "output_type": "stream",
     "text": [
      "Credentials are already in use. The existing account in the session will be replaced.\n"
     ]
    },
    {
     "name": "stdout",
     "output_type": "stream",
     "text": [
      "(1, 1, 0) -> 1 (measured bits: 11000000000000000000001)\n"
     ]
    },
    {
     "name": "stderr",
     "output_type": "stream",
     "text": [
      "Credentials are already in use. The existing account in the session will be replaced.\n"
     ]
    },
    {
     "name": "stdout",
     "output_type": "stream",
     "text": [
      "(1, 1, 1) -> 0 (measured bits: 11100000000000000000000)\n"
     ]
    }
   ],
   "source": [
    "import itertools\n",
    "for combo in itertools.product([0,1],repeat=3):\n",
    "    try_input_combination(combo,reverse=True,full_reverse=False)"
   ]
  },
  {
   "cell_type": "markdown",
   "metadata": {},
   "source": [
    "# Grover's algorithm "
   ]
  },
  {
   "cell_type": "code",
   "execution_count": 21,
   "metadata": {},
   "outputs": [],
   "source": [
    "def grovers_algorithm(checker,num_inputs,num_registers,num_iterations=None):\n",
    "    if num_iterations == None:\n",
    "        from math import floor,sqrt\n",
    "        iterations=floor(sqrt(2**num_inputs))\n",
    "    else:\n",
    "        iterations=num_iterations\n",
    "    print(\"Running Grover's algorithm for %d iterations\"%iterations)\n",
    "    qr = QuantumRegister(num_registers)\n",
    "    cr = ClassicalRegister(num_registers)\n",
    "    qc = QuantumCircuit(qr,cr)\n",
    "    # Configuring the input\n",
    "    for i in range(num_inputs):\n",
    "        qc.h(qr[i])\n",
    "    # Setting up the output of the checker function\n",
    "    qc.x(qr[num_registers-1])\n",
    "    qc.h(qr[num_registers-1])\n",
    "    \n",
    "    # Do the Grovers steps\n",
    "    for it in range(iterations):\n",
    "        checker(qr,qc)\n",
    "        mover(qr,qc,num_inputs)\n",
    "    # Measure the inputs\n",
    "    for j in range(num_inputs):\n",
    "        qc.measure(qr[j], cr[j])\n",
    "    return cr,qr,qc\n",
    "\n",
    "    \n",
    "def control_Z(qr,qc,num_inputs):\n",
    "    if num_inputs not in [2,3]:\n",
    "        raise Exception(\"currently only supports 2 or 3 inputs\")\n",
    "    if num_inputs==2:\n",
    "        qc.h(qr[1])\n",
    "        qc.cx(qr[0],qr[1])\n",
    "        qc.h(qr[1])\n",
    "    elif num_inputs==3:\n",
    "        qc.h(qr[2])\n",
    "        qc.ccx(qr[0],qr[1],qr[2])    \n",
    "        qc.h(qr[2])\n",
    "    \n",
    "def mover(qr,qc,num_inputs):\n",
    "    if num_inputs not in [2,3]:\n",
    "        raise Exception(\"currently only supports 2 or 3 inputs\")\n",
    "    for i in range(num_inputs):\n",
    "        qc.h(qr[i])\n",
    "    for i in range(num_inputs): # D matrix\n",
    "        qc.x(qr[i]) \n",
    "    control_Z(qr,qc,num_inputs)\n",
    "    for i in range(num_inputs):\n",
    "        qc.x(qr[i])\n",
    "    for i in range(num_inputs):\n",
    "        qc.h(qr[i])"
   ]
  },
  {
   "cell_type": "markdown",
   "metadata": {},
   "source": [
    "# Running Grover's algorithm"
   ]
  },
  {
   "cell_type": "code",
   "execution_count": 24,
   "metadata": {},
   "outputs": [],
   "source": [
    "def run_3sat_mystery_grover_ibm_sim(num_iterations=None,backend=None):\n",
    "    if not backend:\n",
    "        provider = IBMQ.load_account()\n",
    "        backend=provider.get_backend('ibmq_qasm_simulator')\n",
    "    import time\n",
    "    from qiskit.tools.visualization import plot_histogram\n",
    "    shots=50\n",
    "    cr,qr,qc = grovers_algorithm(_3sat_mystery_3,3,23,num_iterations=num_iterations)\n",
    "    job_exp = qiskit.execute(qc, backend=backend,shots=shots)\n",
    "    result = job_exp.result()\n",
    "    final=result.get_counts(qc)\n",
    "    print(final)\n",
    "    return final"
   ]
  },
  {
   "cell_type": "markdown",
   "metadata": {},
   "source": [
    "Zero iterations!"
   ]
  },
  {
   "cell_type": "code",
   "execution_count": 25,
   "metadata": {},
   "outputs": [
    {
     "name": "stderr",
     "output_type": "stream",
     "text": [
      "Credentials are already in use. The existing account in the session will be replaced.\n"
     ]
    },
    {
     "name": "stdout",
     "output_type": "stream",
     "text": [
      "Running Grover's algorithm for 0 iterations\n",
      "{'00000000000000000000101': 5, '00000000000000000000110': 5, '00000000000000000000000': 9, '00000000000000000000111': 10, '00000000000000000000001': 3, '00000000000000000000011': 5, '00000000000000000000100': 8, '00000000000000000000010': 5}\n"
     ]
    },
    {
     "data": {
      "image/png": "[encoded data removed]",
      "text/plain": [
       "<Figure size 504x360 with 1 Axes>"
      ]
     },
     "execution_count": 25,
     "metadata": {},
     "output_type": "execute_result"
    }
   ],
   "source": [
    "final=run_3sat_mystery_grover_ibm_sim(num_iterations=0)\n",
    "plot_histogram(final)"
   ]
  },
  {
   "cell_type": "code",
   "execution_count": 24,
   "metadata": {},
   "outputs": [
    {
     "name": "stdout",
     "output_type": "stream",
     "text": [
      "Running Grover's algorithm for 2 iterations\n",
      "{'00000000000000000000011': 50}\n"
     ]
    },
    {
     "data": {
      "image/png": "[encoded data removed]",
      "text/plain": [
       "<Figure size 504x360 with 1 Axes>"
      ]
     },
     "execution_count": 24,
     "metadata": {},
     "output_type": "execute_result"
    }
   ],
   "source": [
    "final=run_3sat_mystery_grover_ibm_sim()\n",
    "plot_histogram(final)"
   ]
  },
  {
   "cell_type": "markdown",
   "metadata": {},
   "source": [
    "Only one iteration!"
   ]
  },
  {
   "cell_type": "code",
   "execution_count": 25,
   "metadata": {
    "scrolled": true
   },
   "outputs": [
    {
     "name": "stdout",
     "output_type": "stream",
     "text": [
      "Running Grover's algorithm for 1 iterations\n",
      "{'00000000000000000000001': 2, '00000000000000000000101': 1, '00000000000000000000011': 42, '00000000000000000000100': 2, '00000000000000000000000': 1, '00000000000000000000111': 1, '00000000000000000000010': 1}\n"
     ]
    },
    {
     "data": {
      "image/png": "[encoded data removed]",
      "text/plain": [
       "<Figure size 504x360 with 1 Axes>"
      ]
     },
     "execution_count": 25,
     "metadata": {},
     "output_type": "execute_result"
    }
   ],
   "source": [
    "final=run_3sat_mystery_grover_ibm_sim(num_iterations=1)\n",
    "plot_histogram(final)"
   ]
  },
  {
   "cell_type": "markdown",
   "metadata": {},
   "source": [
    "Three iterations! (this is one too many, and the solution starts to degrade). It will oscillate and improve again later."
   ]
  },
  {
   "cell_type": "code",
   "execution_count": 26,
   "metadata": {},
   "outputs": [
    {
     "name": "stdout",
     "output_type": "stream",
     "text": [
      "Running Grover's algorithm for 3 iterations\n",
      "{'00000000000000000000101': 3, '00000000000000000000011': 16, '00000000000000000000100': 9, '00000000000000000000111': 4, '00000000000000000000001': 7, '00000000000000000000110': 2, '00000000000000000000000': 7, '00000000000000000000010': 2}\n"
     ]
    },
    {
     "data": {
      "image/png": "[encoded data removed]",
      "text/plain": [
       "<Figure size 504x360 with 1 Axes>"
      ]
     },
     "execution_count": 26,
     "metadata": {},
     "output_type": "execute_result"
    }
   ],
   "source": [
    "final=run_3sat_mystery_grover_ibm_sim(num_iterations=3)\n",
    "plot_histogram(final)"
   ]
  },
  {
   "cell_type": "markdown",
   "metadata": {},
   "source": [
    "IBM QX has a maximum length of the circuit it hits, which we reach for 4 or more iterations. "
   ]
  },
  {
   "cell_type": "code",
   "execution_count": null,
   "metadata": {
    "collapsed": true,
    "jupyter": {
     "outputs_hidden": true
    }
   },
   "outputs": [],
   "source": []
  }
 ],
 "metadata": {
  "kernelspec": {
   "display_name": "bookkernel",
   "language": "python",
   "name": "bookkernel"
  },
  "language_info": {
   "codemirror_mode": {
    "name": "ipython",
    "version": 3
   },
   "file_extension": ".py",
   "mimetype": "text/x-python",
   "name": "python",
   "nbconvert_exporter": "python",
   "pygments_lexer": "ipython3",
   "version": "3.7.4"
  }
 },
 "nbformat": 4,
 "nbformat_minor": 4
}
